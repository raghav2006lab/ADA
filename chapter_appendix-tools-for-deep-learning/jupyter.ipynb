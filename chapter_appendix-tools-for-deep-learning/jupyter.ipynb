{
  "cells": [
    {
      "cell_type": "code",
      "metadata": {
        "colab": {
          "base_uri": "https://localhost:8080/"
        },
        "id": "caf4562e",
        "outputId": "69fde5e4-3505-4d68-e940-31be2c5c04d7"
      },
      "source": [
        "%pip install python-docx"
      ],
      "id": "caf4562e",
      "execution_count": 17,
      "outputs": [
        {
          "output_type": "stream",
          "name": "stdout",
          "text": [
            "Requirement already satisfied: python-docx in /usr/local/lib/python3.12/dist-packages (1.2.0)\n",
            "Requirement already satisfied: lxml>=3.1.0 in /usr/local/lib/python3.12/dist-packages (from python-docx) (5.4.0)\n",
            "Requirement already satisfied: typing_extensions>=4.9.0 in /usr/local/lib/python3.12/dist-packages (from python-docx) (4.15.0)\n"
          ]
        }
      ]
    },
    {
      "cell_type": "code",
      "metadata": {
        "colab": {
          "base_uri": "https://localhost:8080/"
        },
        "id": "c7602de9",
        "outputId": "e3a09ae9-47e6-4624-8788-b4b109a848e3"
      },
      "source": [
        "%pip install python-docx"
      ],
      "id": "c7602de9",
      "execution_count": 18,
      "outputs": [
        {
          "output_type": "stream",
          "name": "stdout",
          "text": [
            "Requirement already satisfied: python-docx in /usr/local/lib/python3.12/dist-packages (1.2.0)\n",
            "Requirement already satisfied: lxml>=3.1.0 in /usr/local/lib/python3.12/dist-packages (from python-docx) (5.4.0)\n",
            "Requirement already satisfied: typing_extensions>=4.9.0 in /usr/local/lib/python3.12/dist-packages (from python-docx) (4.15.0)\n"
          ]
        }
      ]
    },
    {
      "cell_type": "code",
      "metadata": {
        "id": "5fb974cb"
      },
      "source": [
        "from docx import Document\n",
        "\n",
        "def read_docx(file_path):\n",
        "    \"\"\"Reads the text content from a .docx file.\n",
        "\n",
        "    Args:\n",
        "        file_path: The path to the .docx file.\n",
        "\n",
        "    Returns:\n",
        "        The text content of the file as a string.\n",
        "    \"\"\"\n",
        "    document = Document(file_path)\n",
        "    text = \"\"\n",
        "    for paragraph in document.paragraphs:\n",
        "        text += paragraph.text + \"\\n\"\n",
        "    return text"
      ],
      "id": "5fb974cb",
      "execution_count": 19,
      "outputs": []
    },
    {
      "cell_type": "code",
      "metadata": {
        "id": "46aef00b"
      },
      "source": [
        "# Assuming the read_file_content function is defined in a previous cell\n",
        "# from docx import Document # No longer needed if using read_file_content\n",
        "\n",
        "# Update file paths to match available files\n",
        "data_file1 = read_file_content('nlp practical3.docx')\n",
        "data_file2 = read_file_content('nlp practical3.docx')\n",
        "\n",
        "# Assuming the SequenceMatcher code is in a subsequent cell\n",
        "# from difflib import SequenceMatcher # No longer needed if imported later\n",
        "\n",
        "# matches = SequenceMatcher(None, data_file1, data_file2).ratio()\n",
        "# print(f\"The plagiarised content is {matches * 100:.2f}%\")"
      ],
      "id": "46aef00b",
      "execution_count": 37,
      "outputs": []
    },
    {
      "cell_type": "code",
      "metadata": {
        "colab": {
          "base_uri": "https://localhost:8080/"
        },
        "id": "94de2ed5",
        "outputId": "f87e2013-12ab-4c35-ea30-dfa96e221088"
      },
      "source": [
        "from difflib import SequenceMatcher\n",
        "\n",
        "matches = SequenceMatcher(None, data_file1, data_file2).ratio()\n",
        "print(f\"The plagiarised content is {matches * 100:.2f}%\")"
      ],
      "id": "94de2ed5",
      "execution_count": 38,
      "outputs": [
        {
          "output_type": "stream",
          "name": "stdout",
          "text": [
            "The plagiarised content is 100.00%\n"
          ]
        }
      ]
    },
    {
      "cell_type": "code",
      "metadata": {
        "colab": {
          "base_uri": "https://localhost:8080/"
        },
        "id": "c6c03e40",
        "outputId": "f82333d2-03e4-45ad-9dbb-58e398f442e0"
      },
      "source": [
        "print(f\"The similar content is {matches * 100:.2f}%\")"
      ],
      "id": "c6c03e40",
      "execution_count": 36,
      "outputs": [
        {
          "output_type": "stream",
          "name": "stdout",
          "text": [
            "The similar content is 3.84%\n"
          ]
        }
      ]
    }
  ],
  "metadata": {
    "kernelspec": {
      "display_name": "Python 3",
      "name": "python3"
    },
    "language_info": {
      "name": "python"
    },
    "required_libs": [],
    "colab": {
      "provenance": []
    }
  },
  "nbformat": 4,
  "nbformat_minor": 5
}